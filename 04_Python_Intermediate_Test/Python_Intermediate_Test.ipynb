{
 "cells": [
  {
   "cell_type": "markdown",
   "metadata": {},
   "source": [
    "### Task 1\n",
    "** Use a for loop and indexing to print out only the words that start with an s in this sentence: ** \n",
    "\n",
    "    \"Secret agents are super good at staying hidden.\"\n",
    "\n",
    "**Hint: the .split() method may be useful here! **|"
   ]
  },
  {
   "cell_type": "code",
   "execution_count": 2,
   "metadata": {},
   "outputs": [],
   "source": [
    "str = \"Secret agents are super good at staying hidden.\""
   ]
  },
  {
   "cell_type": "code",
   "execution_count": 3,
   "metadata": {},
   "outputs": [
    {
     "name": "stdout",
     "output_type": "stream",
     "text": [
      "['Secret', 'agents', 'are', 'super', 'good', 'at', 'staying', 'hidden.']\n"
     ]
    }
   ],
   "source": [
    "print(str.split())"
   ]
  },
  {
   "cell_type": "code",
   "execution_count": 4,
   "metadata": {},
   "outputs": [
    {
     "name": "stdout",
     "output_type": "stream",
     "text": [
      "Secret\n",
      "super\n",
      "staying\n"
     ]
    }
   ],
   "source": [
    "for word in str.split():\n",
    "    if word.lower().startswith('s'):\n",
    "        print(word)"
   ]
  },
  {
   "cell_type": "markdown",
   "metadata": {},
   "source": [
    "Using List Comprehension:"
   ]
  },
  {
   "cell_type": "code",
   "execution_count": 5,
   "metadata": {},
   "outputs": [
    {
     "data": {
      "text/plain": [
       "['Secret', 'agents', 'are', 'super', 'good', 'at', 'staying', 'hidden.']"
      ]
     },
     "execution_count": 5,
     "metadata": {},
     "output_type": "execute_result"
    }
   ],
   "source": [
    "mylist = str.split()\n",
    "mylist"
   ]
  },
  {
   "cell_type": "code",
   "execution_count": 6,
   "metadata": {},
   "outputs": [
    {
     "data": {
      "text/plain": [
       "['Secret', 'super', 'staying']"
      ]
     },
     "execution_count": 6,
     "metadata": {},
     "output_type": "execute_result"
    }
   ],
   "source": [
    "[word for word in mylist if word.lower().startswith('s')]"
   ]
  },
  {
   "cell_type": "markdown",
   "metadata": {},
   "source": [
    "### Task 2"
   ]
  },
  {
   "cell_type": "markdown",
   "metadata": {},
   "source": [
    "** Using the same string as previously used:**\n",
    "\n",
    "    \"Secret agents are super good at staying hidden.\"\n",
    "\n",
    "** Use a for loop to only print out the words with an even number of characters/letters. **"
   ]
  },
  {
   "cell_type": "code",
   "execution_count": 7,
   "metadata": {},
   "outputs": [
    {
     "data": {
      "text/plain": [
       "'Secret agents are super good at staying hidden.'"
      ]
     },
     "execution_count": 7,
     "metadata": {},
     "output_type": "execute_result"
    }
   ],
   "source": [
    "str"
   ]
  },
  {
   "cell_type": "code",
   "execution_count": 8,
   "metadata": {},
   "outputs": [
    {
     "name": "stdout",
     "output_type": "stream",
     "text": [
      "Secret\n",
      "agents\n",
      "good\n",
      "at\n"
     ]
    }
   ],
   "source": [
    "for word in str.split():\n",
    "    if len(word)%2 == 0:\n",
    "        print(word)"
   ]
  },
  {
   "cell_type": "markdown",
   "metadata": {},
   "source": [
    "Using List Comprehension:"
   ]
  },
  {
   "cell_type": "code",
   "execution_count": 9,
   "metadata": {},
   "outputs": [
    {
     "data": {
      "text/plain": [
       "['Secret', 'agents', 'are', 'super', 'good', 'at', 'staying', 'hidden.']"
      ]
     },
     "execution_count": 9,
     "metadata": {},
     "output_type": "execute_result"
    }
   ],
   "source": [
    "mylist"
   ]
  },
  {
   "cell_type": "code",
   "execution_count": 10,
   "metadata": {},
   "outputs": [
    {
     "name": "stdout",
     "output_type": "stream",
     "text": [
      "Secret\n",
      "agents\n",
      "good\n",
      "at\n"
     ]
    },
    {
     "data": {
      "text/plain": [
       "[None, None, None, None]"
      ]
     },
     "execution_count": 10,
     "metadata": {},
     "output_type": "execute_result"
    }
   ],
   "source": [
    "[print(word) for word in mylist if len(word)%2==0]"
   ]
  },
  {
   "cell_type": "markdown",
   "metadata": {},
   "source": [
    "### Task 3\n",
    "\n",
    "**Use a list comprehension to create a list of every first letter in this string:**\n",
    "\n",
    "    mystring = \"Secret agents are super good at staying hidden.\""
   ]
  },
  {
   "cell_type": "code",
   "execution_count": 11,
   "metadata": {},
   "outputs": [
    {
     "data": {
      "text/plain": [
       "['S', 'a', 'a', 's', 'g', 'a', 's', 'h']"
      ]
     },
     "execution_count": 11,
     "metadata": {},
     "output_type": "execute_result"
    }
   ],
   "source": [
    "[word[0] for word in str.split()]"
   ]
  },
  {
   "cell_type": "markdown",
   "metadata": {},
   "source": [
    "### Task 4\n",
    "\n",
    "**Use list comprehension to create a list of all the even numbers from 0 to 10.**"
   ]
  },
  {
   "cell_type": "code",
   "execution_count": 12,
   "metadata": {},
   "outputs": [
    {
     "data": {
      "text/plain": [
       "[0, 2, 4, 6, 8, 10]"
      ]
     },
     "execution_count": 12,
     "metadata": {},
     "output_type": "execute_result"
    }
   ],
   "source": [
    "[num for num in range(0,11) if num%2==0]"
   ]
  },
  {
   "cell_type": "markdown",
   "metadata": {},
   "source": [
    "### Task 5\n",
    "\n",
    "**Use the range function to create a list of all the even numbers from 0 to 10.**"
   ]
  },
  {
   "cell_type": "code",
   "execution_count": 13,
   "metadata": {},
   "outputs": [
    {
     "data": {
      "text/plain": [
       "[0, 2, 4, 6, 8, 10]"
      ]
     },
     "execution_count": 13,
     "metadata": {},
     "output_type": "execute_result"
    }
   ],
   "source": [
    "list(range(0,11,2))"
   ]
  },
  {
   "cell_type": "markdown",
   "metadata": {},
   "source": [
    "### Task 6\n",
    "\n",
    "** Create a for loop that uses the random library to create a list of 10 random numbers.**"
   ]
  },
  {
   "cell_type": "code",
   "execution_count": 14,
   "metadata": {},
   "outputs": [],
   "source": [
    "from random import randint"
   ]
  },
  {
   "cell_type": "code",
   "execution_count": 15,
   "metadata": {},
   "outputs": [
    {
     "name": "stdout",
     "output_type": "stream",
     "text": [
      "[92, 73, 15, 50, 68, 33, 84, 16, 75, 12]\n"
     ]
    }
   ],
   "source": [
    "l = []\n",
    "\n",
    "for n in range(0,10):\n",
    "    l.append(randint(0,101))\n",
    "    \n",
    "print(l)"
   ]
  },
  {
   "cell_type": "markdown",
   "metadata": {},
   "source": [
    "Using WHILE loop:"
   ]
  },
  {
   "cell_type": "code",
   "execution_count": 16,
   "metadata": {},
   "outputs": [
    {
     "name": "stdout",
     "output_type": "stream",
     "text": [
      "[59, 71, 52, 21, 3, 33, 85, 22, 60, 94]\n"
     ]
    }
   ],
   "source": [
    "l.clear()\n",
    "i = 0\n",
    "\n",
    "while i<10:\n",
    "    l.append(randint(0,101))\n",
    "    i+=1\n",
    "    \n",
    "print(l)"
   ]
  },
  {
   "cell_type": "markdown",
   "metadata": {},
   "source": [
    "### Task 8\n",
    "\n",
    "** Create a while loop that will ask the user to input an even number. It should keep repeating the request until an even integer is provided. You should only need to expect integers to be passed in, if the user provides a string or something else that can't be transformed to an integer with int(), then the loop should break with an error. **\n",
    "\n",
    "** Important things to keep in mind when working with while loops with the input() function:**\n",
    "* It's very easy to get stuck in an infinite loop, click on Kernel in the top toolbar and select Restart Kernel to fix this.\n",
    "* If you re-run a cell still waiting for an input() it will get stuck with In [*\\] , again select Restart Kernel to fix this."
   ]
  },
  {
   "cell_type": "code",
   "execution_count": 17,
   "metadata": {},
   "outputs": [
    {
     "name": "stdout",
     "output_type": "stream",
     "text": [
      "Please provide an even number:3\n",
      "Please provide an even number:5\n",
      "Please provide an even number:7\n",
      "Please provide an even number:2\n",
      "Thank You\n"
     ]
    }
   ],
   "source": [
    "num=1\n",
    "\n",
    "while num%2!=0:\n",
    "    num = int(input(\"Please provide an even number:\"))\n",
    "    continue\n",
    "print(\"Thank You\")"
   ]
  },
  {
   "cell_type": "markdown",
   "metadata": {},
   "source": [
    "## Thank You!"
   ]
  }
 ],
 "metadata": {
  "kernelspec": {
   "display_name": "Python 3",
   "language": "python",
   "name": "python3"
  },
  "language_info": {
   "codemirror_mode": {
    "name": "ipython",
    "version": 3
   },
   "file_extension": ".py",
   "mimetype": "text/x-python",
   "name": "python",
   "nbconvert_exporter": "python",
   "pygments_lexer": "ipython3",
   "version": "3.7.0"
  }
 },
 "nbformat": 4,
 "nbformat_minor": 2
}
