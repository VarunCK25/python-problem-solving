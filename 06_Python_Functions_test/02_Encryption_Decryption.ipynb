{
 "cells": [
  {
   "cell_type": "markdown",
   "metadata": {},
   "source": [
    "# Hacking Incident\n",
    "\n",
    "We're being hacked! We need your help to get a message to the main server.\n",
    "\n",
    "We need to accomplish 3 tasks:\n",
    "\n",
    "1. Create a Caeser cipher encryption function.\n",
    "2. Create another function that decrypts a Caeser cipher message.\n",
    "3. Create a function that will brute force every possible output for an encrypted Caeser cipher."
   ]
  },
  {
   "cell_type": "markdown",
   "metadata": {},
   "source": [
    "## Encryption Function\n",
    "\n",
    "This function should take in two parameters, the plain text message and the shift number for the Caeser cipher.\n",
    "\n",
    "To create the cipher you will need to create a list of the alphabet. You can either write out the alphabet manually, or use the [string library](https://docs.python.org/3/library/string.html?highlight=string#module-string) to get all the lowercase alphabet. We first need to run *import string* , and then call the attribute. For example:\n",
    "\n",
    "    import string\n",
    "    alphabet = string.ascii_lowercase\n",
    "    print(alphabet)\n",
    "    print(list(alphabet))"
   ]
  },
  {
   "cell_type": "code",
   "execution_count": 3,
   "metadata": {},
   "outputs": [],
   "source": [
    "def encrypt(text,shift):\n",
    "    '''\n",
    "    INPUT: text as a string and an integer for the shift value.\n",
    "    OUTPUT: The shifted text after being run through the Caeser cipher.\n",
    "    '''\n",
    "    \n",
    "    # Creating a alphabet string and converting it to a list\n",
    "    import string\n",
    "    alphabet = string.ascii_lowercase\n",
    "    alphabet_list = (list(alphabet))\n",
    "    \n",
    "    # Creating the shifted version of alphabet string\n",
    "    if(shift<=len(alphabet_list)):\n",
    "        revAlphaList = alphabet_list[len(alphabet_list)-shift:] + alphabet_list[:len(alphabet_list)-shift]\n",
    "    \n",
    "        # Converting input string message to a list\n",
    "        text_list = list(text.lower())\n",
    "    \n",
    "        # Using a for loop to go through each character in the original message.\n",
    "        # Then figure out its index match in the shifted alphabet and replacing.\n",
    "        for i,ele in enumerate(text_list):\n",
    "            if ele in revAlphaList:\n",
    "                index = revAlphaList.index(ele)\n",
    "                text_list[i] = alphabet_list[index]\n",
    "        \n",
    "        # Converting the shifted message list to string use ''.join() method \n",
    "        new_message = ''.join(text_list)\n",
    "    \n",
    "        #returning new_message\n",
    "        return new_message\n",
    "    \n",
    "    # if shift number is given as invalid, returning as 'Invalid'  \n",
    "    return 'Invalid Input'"
   ]
  },
  {
   "cell_type": "code",
   "execution_count": 4,
   "metadata": {},
   "outputs": [
    {
     "data": {
      "text/plain": [
       "'trg guvf zrffntr gb gur znva freire'"
      ]
     },
     "execution_count": 4,
     "metadata": {},
     "output_type": "execute_result"
    }
   ],
   "source": [
    "encrypt('Get this message to the main server',13)"
   ]
  },
  {
   "cell_type": "code",
   "execution_count": null,
   "metadata": {},
   "outputs": [],
   "source": []
  },
  {
   "cell_type": "code",
   "execution_count": null,
   "metadata": {},
   "outputs": [],
   "source": []
  },
  {
   "cell_type": "markdown",
   "metadata": {},
   "source": [
    "## Decryption\n",
    "\n",
    "Now creating a new function that will \"decrypt\" a shifted message. It should basically do the reverse of the encryption function. The process will be very similar as our previous function, but the alphabets will be switched."
   ]
  },
  {
   "cell_type": "code",
   "execution_count": 7,
   "metadata": {},
   "outputs": [],
   "source": [
    "import string\n",
    "\n",
    "def decrypt(text,shift):\n",
    "    '''\n",
    "    INPUT: A shifted message and the integer shift value\n",
    "    OUTPUT: The plain text original message.\n",
    "    '''    \n",
    "    \n",
    "    # Creating a alphabet string and converting it to a list\n",
    "    alphabet = string.ascii_lowercase\n",
    "    alphabet_list = list(alphabet)\n",
    "    \n",
    "    # Creating the shifted version of alphabet string.\n",
    "    if shift<=len(alphabet_list):\n",
    "        revAlphaList = alphabet_list[len(alphabet_list)-shift:] + alphabet_list[:len(alphabet_list)-shift]\n",
    "    \n",
    "        # Converting input string message to a list\n",
    "        text_list = list(text.lower())\n",
    "        \n",
    "        # Using a for loop to go through each character in the original message.\n",
    "        # Then figuring out its index match in the alphabet and replacing.\n",
    "        for i,ele in enumerate(text_list):\n",
    "            if ele in alphabet_list:\n",
    "                index = alphabet_list.index(ele)\n",
    "                text_list[i] = revAlphaList[index]\n",
    "    \n",
    "        # Converting the shifted message list to string use ''.join() method\n",
    "        text_list = ''.join(text_list)\n",
    "        \n",
    "        #returning new_message\n",
    "        return text_list\n",
    "    \n",
    "    # if shift number is given as invalid, returning as 'Invalid' \n",
    "    return 'Invalid Input'"
   ]
  },
  {
   "cell_type": "code",
   "execution_count": 8,
   "metadata": {},
   "outputs": [
    {
     "data": {
      "text/plain": [
       "'get this message to the main server'"
      ]
     },
     "execution_count": 8,
     "metadata": {},
     "output_type": "execute_result"
    }
   ],
   "source": [
    "decrypt('trg guvf zrffntr gb gur znva freire',13)"
   ]
  },
  {
   "cell_type": "markdown",
   "metadata": {},
   "source": [
    "## Brute Force Method\n",
    "\n",
    "There is no gaurantee that the person on the other end will know the correct shift value. In that case we need a function that can brute force through every possible shift value and print out each outcome. Then a user could quickly read through the printed messages and find the one that is readable.\n",
    "\n",
    "** In case you aren't given the shift factor number, create a function that prints out every possible shifted string given an encrypted string. **"
   ]
  },
  {
   "cell_type": "markdown",
   "metadata": {},
   "source": [
    "#### 1) Using decrypt function:"
   ]
  },
  {
   "cell_type": "code",
   "execution_count": 9,
   "metadata": {},
   "outputs": [],
   "source": [
    "def brute_force1(message):\n",
    "    for n in range(26):\n",
    "        print(\"Using shift value of {}\".format(n))\n",
    "        print(decrypt(message,n))\n",
    "        print()"
   ]
  },
  {
   "cell_type": "code",
   "execution_count": 10,
   "metadata": {},
   "outputs": [
    {
     "name": "stdout",
     "output_type": "stream",
     "text": [
      "Using shift value of 0\n",
      "trg guvf zrffntr gb gur znva freire\n",
      "\n",
      "Using shift value of 1\n",
      "sqf ftue yqeemsq fa ftq ymuz eqdhqd\n",
      "\n",
      "Using shift value of 2\n",
      "rpe estd xpddlrp ez esp xlty dpcgpc\n",
      "\n",
      "Using shift value of 3\n",
      "qod drsc wocckqo dy dro wksx cobfob\n",
      "\n",
      "Using shift value of 4\n",
      "pnc cqrb vnbbjpn cx cqn vjrw bnaena\n",
      "\n",
      "Using shift value of 5\n",
      "omb bpqa umaaiom bw bpm uiqv amzdmz\n",
      "\n",
      "Using shift value of 6\n",
      "nla aopz tlzzhnl av aol thpu zlycly\n",
      "\n",
      "Using shift value of 7\n",
      "mkz znoy skyygmk zu znk sgot ykxbkx\n",
      "\n",
      "Using shift value of 8\n",
      "ljy ymnx rjxxflj yt ymj rfns xjwajw\n",
      "\n",
      "Using shift value of 9\n",
      "kix xlmw qiwweki xs xli qemr wivziv\n",
      "\n",
      "Using shift value of 10\n",
      "jhw wklv phvvdjh wr wkh pdlq vhuyhu\n",
      "\n",
      "Using shift value of 11\n",
      "igv vjku oguucig vq vjg ockp ugtxgt\n",
      "\n",
      "Using shift value of 12\n",
      "hfu uijt nfttbhf up uif nbjo tfswfs\n",
      "\n",
      "Using shift value of 13\n",
      "get this message to the main server\n",
      "\n",
      "Using shift value of 14\n",
      "fds sghr ldrrzfd sn sgd lzhm rdqudq\n",
      "\n",
      "Using shift value of 15\n",
      "ecr rfgq kcqqyec rm rfc kygl qcptcp\n",
      "\n",
      "Using shift value of 16\n",
      "dbq qefp jbppxdb ql qeb jxfk pbosbo\n",
      "\n",
      "Using shift value of 17\n",
      "cap pdeo iaoowca pk pda iwej oanran\n",
      "\n",
      "Using shift value of 18\n",
      "bzo ocdn hznnvbz oj ocz hvdi nzmqzm\n",
      "\n",
      "Using shift value of 19\n",
      "ayn nbcm gymmuay ni nby guch mylpyl\n",
      "\n",
      "Using shift value of 20\n",
      "zxm mabl fxlltzx mh max ftbg lxkoxk\n",
      "\n",
      "Using shift value of 21\n",
      "ywl lzak ewkksyw lg lzw esaf kwjnwj\n",
      "\n",
      "Using shift value of 22\n",
      "xvk kyzj dvjjrxv kf kyv drze jvimvi\n",
      "\n",
      "Using shift value of 23\n",
      "wuj jxyi cuiiqwu je jxu cqyd iuhluh\n",
      "\n",
      "Using shift value of 24\n",
      "vti iwxh bthhpvt id iwt bpxc htgktg\n",
      "\n",
      "Using shift value of 25\n",
      "ush hvwg asggous hc hvs aowb gsfjsf\n",
      "\n"
     ]
    }
   ],
   "source": [
    "brute_force1('trg guvf zrffntr gb gur znva freire')"
   ]
  },
  {
   "cell_type": "markdown",
   "metadata": {},
   "source": [
    "#### 2) Writing new function:"
   ]
  },
  {
   "cell_type": "code",
   "execution_count": 12,
   "metadata": {},
   "outputs": [],
   "source": [
    "import string\n",
    "\n",
    "def brute_force2(orig_message):\n",
    "    \"\"\"\n",
    "    INPUT: A shifted message\n",
    "    OUTPUT: Prints out every possible shifted message. \n",
    "            One of the printed outputs should be readable.\n",
    "    \"\"\"    \n",
    "    \n",
    "    # Creating a alphabet string and converting it to a list\n",
    "    alph = string.ascii_lowercase\n",
    "    l_alph = list(alph)\n",
    "    \n",
    "    # Creating a for loop for looping through all the shift values\n",
    "    for shift in range(0,26):\n",
    "        print(\"Using shift value of {}\".format(shift))\n",
    "        \n",
    "        # Creating the shifted version of alphabet string.\n",
    "        rev_l_alph = l_alph[len(l_alph)-shift:] + l_alph[:len(l_alph)-shift]\n",
    "            \n",
    "        # Storing original message to some variable and converting it to a list\n",
    "        message = orig_message\n",
    "        message_list = list(message.lower())\n",
    "        \n",
    "        # Using a for loop to go through each character in the original message.\n",
    "        # Then figuring out its index match in the alphabet and replacing.\n",
    "        for i,ele in enumerate(message_list):\n",
    "            if ele in l_alph:\n",
    "                index = l_alph.index(ele)\n",
    "                message_list[i] = rev_l_alph[index]\n",
    "    \n",
    "        # Converting the shifted message list to string use ''.join() method\n",
    "        message = ''.join(message_list)\n",
    "        print(message)\n",
    "        print()\n",
    "            \n",
    "        # Clearing the reversed list and changing edited message variable to original message again\n",
    "        rev_l_alph.clear()\n",
    "        i=0\n",
    "        message = orig_message\n",
    "    "
   ]
  },
  {
   "cell_type": "code",
   "execution_count": 13,
   "metadata": {},
   "outputs": [
    {
     "name": "stdout",
     "output_type": "stream",
     "text": [
      "Using shift value of 0\n",
      "trg guvf zrffntr gb gur znva freire\n",
      "\n",
      "Using shift value of 1\n",
      "sqf ftue yqeemsq fa ftq ymuz eqdhqd\n",
      "\n",
      "Using shift value of 2\n",
      "rpe estd xpddlrp ez esp xlty dpcgpc\n",
      "\n",
      "Using shift value of 3\n",
      "qod drsc wocckqo dy dro wksx cobfob\n",
      "\n",
      "Using shift value of 4\n",
      "pnc cqrb vnbbjpn cx cqn vjrw bnaena\n",
      "\n",
      "Using shift value of 5\n",
      "omb bpqa umaaiom bw bpm uiqv amzdmz\n",
      "\n",
      "Using shift value of 6\n",
      "nla aopz tlzzhnl av aol thpu zlycly\n",
      "\n",
      "Using shift value of 7\n",
      "mkz znoy skyygmk zu znk sgot ykxbkx\n",
      "\n",
      "Using shift value of 8\n",
      "ljy ymnx rjxxflj yt ymj rfns xjwajw\n",
      "\n",
      "Using shift value of 9\n",
      "kix xlmw qiwweki xs xli qemr wivziv\n",
      "\n",
      "Using shift value of 10\n",
      "jhw wklv phvvdjh wr wkh pdlq vhuyhu\n",
      "\n",
      "Using shift value of 11\n",
      "igv vjku oguucig vq vjg ockp ugtxgt\n",
      "\n",
      "Using shift value of 12\n",
      "hfu uijt nfttbhf up uif nbjo tfswfs\n",
      "\n",
      "Using shift value of 13\n",
      "get this message to the main server\n",
      "\n",
      "Using shift value of 14\n",
      "fds sghr ldrrzfd sn sgd lzhm rdqudq\n",
      "\n",
      "Using shift value of 15\n",
      "ecr rfgq kcqqyec rm rfc kygl qcptcp\n",
      "\n",
      "Using shift value of 16\n",
      "dbq qefp jbppxdb ql qeb jxfk pbosbo\n",
      "\n",
      "Using shift value of 17\n",
      "cap pdeo iaoowca pk pda iwej oanran\n",
      "\n",
      "Using shift value of 18\n",
      "bzo ocdn hznnvbz oj ocz hvdi nzmqzm\n",
      "\n",
      "Using shift value of 19\n",
      "ayn nbcm gymmuay ni nby guch mylpyl\n",
      "\n",
      "Using shift value of 20\n",
      "zxm mabl fxlltzx mh max ftbg lxkoxk\n",
      "\n",
      "Using shift value of 21\n",
      "ywl lzak ewkksyw lg lzw esaf kwjnwj\n",
      "\n",
      "Using shift value of 22\n",
      "xvk kyzj dvjjrxv kf kyv drze jvimvi\n",
      "\n",
      "Using shift value of 23\n",
      "wuj jxyi cuiiqwu je jxu cqyd iuhluh\n",
      "\n",
      "Using shift value of 24\n",
      "vti iwxh bthhpvt id iwt bpxc htgktg\n",
      "\n",
      "Using shift value of 25\n",
      "ush hvwg asggous hc hvs aowb gsfjsf\n",
      "\n"
     ]
    }
   ],
   "source": [
    "brute_force2('trg guvf zrffntr gb gur znva freire')"
   ]
  },
  {
   "cell_type": "code",
   "execution_count": null,
   "metadata": {},
   "outputs": [],
   "source": []
  },
  {
   "cell_type": "markdown",
   "metadata": {},
   "source": [
    "## Thank You!"
   ]
  }
 ],
 "metadata": {
  "kernelspec": {
   "display_name": "Python 3",
   "language": "python",
   "name": "python3"
  },
  "language_info": {
   "codemirror_mode": {
    "name": "ipython",
    "version": 3
   },
   "file_extension": ".py",
   "mimetype": "text/x-python",
   "name": "python",
   "nbconvert_exporter": "python",
   "pygments_lexer": "ipython3",
   "version": "3.7.0"
  }
 },
 "nbformat": 4,
 "nbformat_minor": 2
}
