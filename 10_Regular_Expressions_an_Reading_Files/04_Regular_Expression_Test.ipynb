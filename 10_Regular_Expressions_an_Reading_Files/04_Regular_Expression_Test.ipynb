{
 "cells": [
  {
   "cell_type": "code",
   "execution_count": 1,
   "metadata": {},
   "outputs": [],
   "source": [
    "import os\n",
    "import re\n",
    "import zipfile"
   ]
  },
  {
   "cell_type": "code",
   "execution_count": 3,
   "metadata": {},
   "outputs": [],
   "source": [
    "#Unzip the file to a particular directory\n",
    "file = zipfile.ZipFile('unzip_me_for_instructions.zip','r')\n",
    "file.extractall('unzip_me_for_instructions')"
   ]
  },
  {
   "cell_type": "code",
   "execution_count": 4,
   "metadata": {},
   "outputs": [],
   "source": [
    "#Change the directory to the extracted directory\n",
    "os.chdir('unzip_me_for_instructions')"
   ]
  },
  {
   "cell_type": "code",
   "execution_count": 5,
   "metadata": {},
   "outputs": [
    {
     "data": {
      "text/plain": [
       "['Five', 'Four', 'Instructions.txt', 'One', 'Three', 'Two']"
      ]
     },
     "execution_count": 5,
     "metadata": {},
     "output_type": "execute_result"
    }
   ],
   "source": [
    "#Check what all files and folders contains in extracted folder\n",
    "os.listdir()"
   ]
  },
  {
   "cell_type": "code",
   "execution_count": 9,
   "metadata": {
    "scrolled": true
   },
   "outputs": [
    {
     "name": "stdout",
     "output_type": "stream",
     "text": [
      "If you are reading this, then you successfully were able to decipher the blog post on The Gold Bugs website to find the link. \n",
      "\n",
      "\n",
      "\n",
      "The link led to a zip file. After unzipping the file you will notice this instructions.txt file and folders with many random txt files in them.\n",
      "\n",
      "\n",
      "\n",
      "Hidden within the text of these files are two links. You should be able to use regex to find the url links which will lead to the next phase as you go through every .txt file programmatically.\n",
      "\n",
      "\n",
      "\n",
      "One link leads to a download of a csv file, another to a set of instructions to follow for that csv file. \n",
      "\n",
      "\n",
      "\n",
      "The links will be in this form (note these are examples of the url form, not the actual links):\n",
      "\n",
      "\n",
      "\n",
      "https://drive.google.com/open?id=1tWJBFrSQL06qTZgkohs4t_a5Cu84AheLo\n",
      "\n",
      "\n",
      "\n",
      "and\n",
      "\n",
      "\n",
      "\n",
      "https://docs.google.com/document/d/Q-DcxM17nJm_El0aGsNnY7FajaogRviwja/edit\n",
      "\n",
      "\n",
      "\n",
      "Note how they start with https:// and then have a series of characters, including dots, underscores, forward slashes, and dashes as well.\n",
      "\n",
      "Use this information for your regular expressions.\n",
      "\n",
      "\n",
      "\n",
      "Download the csv file and follow the instructions in the other link for the next steps.\n",
      "\n",
      "\n",
      "\n",
      "Best of luck.\n"
     ]
    }
   ],
   "source": [
    "f = open('Instructions.txt','r')\n",
    "f.seek(0)\n",
    "for line in f.readlines():\n",
    "    print(line)\n",
    "f.close()"
   ]
  },
  {
   "cell_type": "markdown",
   "metadata": {},
   "source": [
    "Let us look what files does the folders contains"
   ]
  },
  {
   "cell_type": "code",
   "execution_count": 10,
   "metadata": {},
   "outputs": [
    {
     "name": "stdout",
     "output_type": "stream",
     "text": [
      "Searching inside folder: C:\\Users\\VarunCK\\Documents\\python_training\\Python-Narrative-Journey-master\\VARUN_NEW\\10.Regular_Expressions_an_Reading_Files\\unzip_me_for_instructions\n",
      "Sub Folder is: Five\n",
      "Sub Folder is: Four\n",
      "Sub Folder is: One\n",
      "Sub Folder is: Three\n",
      "Sub Folder is: Two\n",
      "\n",
      "\n",
      "File is: Instructions.txt\n",
      "\n",
      "\n",
      "Searching inside folder: C:\\Users\\VarunCK\\Documents\\python_training\\Python-Narrative-Journey-master\\VARUN_NEW\\10.Regular_Expressions_an_Reading_Files\\unzip_me_for_instructions\\Five\n",
      "\n",
      "\n",
      "File is: AEITMYIRQLP.txt\n",
      "File is: APJKSRITGGX.txt\n",
      "File is: AQKATDFGXTS.txt\n",
      "File is: ARLKFCWIAJE.txt\n",
      "File is: AXJGVPVEFAS.txt\n",
      "File is: BNUQEHCFRTG.txt\n",
      "File is: BSKJDRNEZQM.txt\n",
      "File is: BTYWAHLHKBM.txt\n",
      "File is: BUGKBZWRRVI.txt\n",
      "File is: BVBURZZCAPR.txt\n",
      "File is: CAHBEVSVDDN.txt\n",
      "File is: COMGMZBJAYE.txt\n",
      "File is: CRFSDGYFSHA.txt\n",
      "File is: CSCLFZCDYYC.txt\n",
      "File is: CXBVCTRBBIE.txt\n",
      "File is: DDLASODUVPX.txt\n",
      "File is: DHZBAAYEADM.txt\n",
      "File is: DQPZQLBCJYP.txt\n",
      "File is: DYOPIIVMZOO.txt\n",
      "File is: DZUWWXYIAEL.txt\n",
      "File is: EAAOEPSAWMQ.txt\n",
      "File is: EIPWXMQZJKU.txt\n",
      "File is: ESIZWBHMGDP.txt\n",
      "File is: ETCUEXWNBCF.txt\n",
      "File is: EYTCGIOYWIW.txt\n",
      "\n",
      "\n",
      "Searching inside folder: C:\\Users\\VarunCK\\Documents\\python_training\\Python-Narrative-Journey-master\\VARUN_NEW\\10.Regular_Expressions_an_Reading_Files\\unzip_me_for_instructions\\Four\n",
      "\n",
      "\n",
      "File is: ECIOBYCDVFI.txt\n",
      "File is: EMTGPSXQEJX.txt\n",
      "File is: EPRNUHRSESC.txt\n",
      "File is: ESDIZXHYCVY.txt\n",
      "File is: EXVQSVBQQQH.txt\n",
      "File is: QCTCKDIBBVG.txt\n",
      "File is: QCWCFLKNZMN.txt\n",
      "File is: QDDETWBHJYC.txt\n",
      "File is: QTDYYIFPHAU.txt\n",
      "File is: QVNJULGXNUM.txt\n",
      "File is: REAXWSOIQDY.txt\n",
      "File is: ROICPTWKXDX.txt\n",
      "File is: RSXOTNGKBML.txt\n",
      "File is: RXDARIDGKBF.txt\n",
      "File is: RYNXFYXMKHG.txt\n",
      "File is: TAKNAVDMZKV.txt\n",
      "File is: THPNEGKTJWI.txt\n",
      "File is: TJFMLJODVAD.txt\n",
      "File is: TKCZSFQNJTX.txt\n",
      "File is: TWUOYFCCYBQ.txt\n",
      "File is: WFSKPTXPFCH.txt\n",
      "File is: WHTOHQUWXIN.txt\n",
      "File is: WNJISWPEBRS.txt\n",
      "File is: WXDJDOGZEHN.txt\n",
      "File is: WYDLGSGGXKV.txt\n",
      "\n",
      "\n",
      "Searching inside folder: C:\\Users\\VarunCK\\Documents\\python_training\\Python-Narrative-Journey-master\\VARUN_NEW\\10.Regular_Expressions_an_Reading_Files\\unzip_me_for_instructions\\One\n",
      "\n",
      "\n",
      "File is: HDOHZHFSTTK.txt\n",
      "File is: HFUTPPAXDIS.txt\n",
      "File is: HMNZTLIFGPD.txt\n",
      "File is: HRQFTHKVJTL.txt\n",
      "File is: HVUTZEVMSBW.txt\n",
      "File is: JDLRVFCXYLU.txt\n",
      "File is: JEHBLZPUPSP.txt\n",
      "File is: JLTXKIGCWDL.txt\n",
      "File is: JQUOBKFUACN.txt\n",
      "File is: JTHSNBNPQSE.txt\n",
      "File is: KCXGNQCZBLO.txt\n",
      "File is: KFIUZFERLET.txt\n",
      "File is: KMMLGJOWLGI.txt\n",
      "File is: KNBSKDREHQU.txt\n",
      "File is: KTXDHIOKAUI.txt\n",
      "File is: LDGOCUQJNNS.txt\n",
      "File is: LFEATJAAYDC.txt\n",
      "File is: LHODFIKVTQA.txt\n",
      "File is: LIFDHOFKWOI.txt\n",
      "File is: LPNDVDXPZIG.txt\n",
      "File is: PDJMSMNKIRM.txt\n",
      "File is: PHWAVPEKAER.txt\n",
      "File is: PLYCGPVEAWO.txt\n",
      "File is: PQNVCVJINAR.txt\n",
      "File is: PTOBBCJYURJ.txt\n",
      "\n",
      "\n",
      "Searching inside folder: C:\\Users\\VarunCK\\Documents\\python_training\\Python-Narrative-Journey-master\\VARUN_NEW\\10.Regular_Expressions_an_Reading_Files\\unzip_me_for_instructions\\Three\n",
      "\n",
      "\n",
      "File is: VAQIJTDOFUJ.txt\n",
      "File is: VCFJCGJFBIH.txt\n",
      "File is: VSXFSTABZDY.txt\n",
      "File is: VVHFVZUNLOO.txt\n",
      "File is: VVKGWLRMHLU.txt\n",
      "File is: XAJMCPEWFNI.txt\n",
      "File is: XFHJOTNPEJG.txt\n",
      "File is: XHZPVUQTXIO.txt\n",
      "File is: XJCWENFFGHB.txt\n",
      "File is: XVMPVSVYKFR.txt\n",
      "File is: YCESZHJDBXH.txt\n",
      "File is: YDQFMWXOUMW.txt\n",
      "File is: YQBIUHSUEVW.txt\n",
      "File is: YQRNCMNFFHW.txt\n",
      "File is: YYIZGBTQHZP.txt\n",
      "File is: ZEZKKRBIZEB.txt\n",
      "File is: ZKQJXAYKPVD.txt\n",
      "File is: ZOWVXWPOGWP.txt\n",
      "File is: ZXEZRQXZNPG.txt\n",
      "File is: ZXIBJMPROKW.txt\n",
      "\n",
      "\n",
      "Searching inside folder: C:\\Users\\VarunCK\\Documents\\python_training\\Python-Narrative-Journey-master\\VARUN_NEW\\10.Regular_Expressions_an_Reading_Files\\unzip_me_for_instructions\\Two\n",
      "\n",
      "\n",
      "File is: GKQBQRCTNNK.txt\n",
      "File is: GMMQQUBMJNR.txt\n",
      "File is: GQTJJORZBXY.txt\n",
      "File is: GTOTCIWMDBY.txt\n",
      "File is: GXYSEPAFRTP.txt\n",
      "File is: HARDNJGDRBC.txt\n",
      "File is: HEORIXOTANT.txt\n",
      "File is: HMUTDOVNYTV.txt\n",
      "File is: HMZXPBOPRAE.txt\n",
      "File is: HTOHSTYXTCO.txt\n",
      "File is: LCJZYDHBFRM.txt\n",
      "File is: LSQSTGPIGIY.txt\n",
      "File is: LULTNYAQEJG.txt\n",
      "File is: LVMBINRBJXL.txt\n",
      "File is: LYZEQCVYNEZ.txt\n",
      "File is: OHZOUOSFJQC.txt\n",
      "File is: OIHMLGMWTHL.txt\n",
      "File is: OKWFOOYTXFU.txt\n",
      "File is: OMWIMVRCMYM.txt\n",
      "File is: OYMAGXAGWHJ.txt\n",
      "File is: SIKFPPLCJDN.txt\n",
      "File is: SJMJLDGPBSJ.txt\n",
      "File is: SOFUJYXTIMK.txt\n",
      "File is: SPDZYGDHEWO.txt\n",
      "File is: SWOFXREEHWA.txt\n",
      "\n",
      "\n"
     ]
    }
   ],
   "source": [
    "for folder, subfolders, files in os.walk(os.getcwd()):\n",
    "    \n",
    "    print('Searching inside folder: '+folder)\n",
    "    \n",
    "    #print('SUBFOLDERS:')\n",
    "    for subfolder in subfolders:\n",
    "        print(\"Sub Folder is: \"+subfolder)\n",
    "    print('\\n')\n",
    "    \n",
    "    #print('FILES:')\n",
    "    for file in files:\n",
    "        print('File is: '+file)\n",
    "        \n",
    "    print('\\n')"
   ]
  },
  {
   "cell_type": "markdown",
   "metadata": {},
   "source": [
    "**So now we need to identify the two links from all the text files which are present in folders One, Tw0, Three, Four and Five**"
   ]
  },
  {
   "cell_type": "markdown",
   "metadata": {},
   "source": [
    "Navigate through each file using os.walk to search for the matching pattern"
   ]
  },
  {
   "cell_type": "code",
   "execution_count": 11,
   "metadata": {},
   "outputs": [
    {
     "name": "stdout",
     "output_type": "stream",
     "text": [
      "https://docs.google.com/document/d/1tWJBFrSQL06qTZgkohs4t_a5Cu84AheLocWTXQ-DcxM/edit?usp=sharing\n",
      "https://drive.google.com/file/d/17nJm_El0aGsNvaMZtnY7FajaogRviwja/view?usp=sharing\n"
     ]
    }
   ],
   "source": [
    "#os.walk(os.getcwd()))[1] is used to get list of only folders in a current directory\n",
    "for directory in next(os.walk(os.getcwd()))[1]:\n",
    "        \n",
    "    os.chdir(directory)\n",
    "    subfolder = os.listdir()\n",
    "    \n",
    "    for file in subfolder:\n",
    "        f = open(file,'r')\n",
    "        f.seek(0)\n",
    "        \n",
    "        for line in f.readlines():\n",
    "            for match in re.finditer(r'https://[-?/_=.\\w]+',line):\n",
    "                print(match.group())                \n",
    "        f.close()\n",
    "\n",
    "    os.chdir('..\\\\')"
   ]
  },
  {
   "cell_type": "markdown",
   "metadata": {},
   "source": [
    "Above are the links which we need to use for further assessment."
   ]
  },
  {
   "cell_type": "markdown",
   "metadata": {},
   "source": [
    "## Thank You"
   ]
  }
 ],
 "metadata": {
  "kernelspec": {
   "display_name": "Python 3",
   "language": "python",
   "name": "python3"
  },
  "language_info": {
   "codemirror_mode": {
    "name": "ipython",
    "version": 3
   },
   "file_extension": ".py",
   "mimetype": "text/x-python",
   "name": "python",
   "nbconvert_exporter": "python",
   "pygments_lexer": "ipython3",
   "version": "3.7.0"
  }
 },
 "nbformat": 4,
 "nbformat_minor": 2
}
