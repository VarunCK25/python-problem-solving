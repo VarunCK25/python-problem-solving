{
 "cells": [
  {
   "cell_type": "markdown",
   "metadata": {},
   "source": [
    "# Test - 2\n",
    "\n",
    "** For this test we will be using Object Oriented Programming to create an object that uses a modified Ceaser Cipher. The basic idea is the following, given a message such as \"hello world\", the encryption should perform the following steps:**\n",
    "\n",
    "** The encryption method which we will create: **\n",
    "\n",
    "1. Accept a string, such as: \"hello world\"\n",
    "2. Add in a random letter in every other index position in the string, for example: 'hueqlzlpom cwgosrhlbdg'\n",
    "3. Then reverse this string, for example: 'gdblhrsogwc moplzlqeuh'\n",
    "4. Then create a shuffled version of the alphabet (remember to set a seed to the random.seed() so you can get this shuffled version again by providing the same seed number).\n",
    "5. Just like a classic ceaser cipher, match up the index of each letter and then encrypt the letters using this shuffled alphabet.\n",
    "\n",
    "The end result will be a string something like \"divgkjocdze bcrgqghywk\".\n",
    "\n",
    "To decrypt this, reverse the steps."
   ]
  },
  {
   "cell_type": "code",
   "execution_count": 1,
   "metadata": {},
   "outputs": [],
   "source": [
    "import random\n",
    "import string\n",
    "\n",
    "class Encryption():\n",
    "    \n",
    "    def __init__(self,seed):\n",
    "        \n",
    "        # Set a random seed and a self.seed attribute\n",
    "        random.seed(seed)\n",
    "        self.seed = seed\n",
    "        \n",
    "        # Create an empty list attribute to hold the encrypted list\n",
    "        self.encrypted_list = []\n",
    "        \n",
    "        # Use the string and random libraries to create two attributes\n",
    "        # One is the correct alphabet, another is a shuffled alphabet (hint: random.sample())\n",
    "        self.alphabet = list(string.ascii_lowercase)\n",
    "        self.jumbled_alphabet = list(random.sample(self.alphabet,len(self.alphabet)))\n",
    "        \n",
    "        \n",
    "    ################################################################\n",
    "    ########################## ENCRYPTION #########################\n",
    "    ##############################################################\n",
    "    \n",
    "    \n",
    "    def encryption(self,message):\n",
    "        '''\n",
    "        This method will take in a string message and encrypt it. Check the video or \n",
    "        the instructions above in the markdown for full description of how your\n",
    "        decryption method should work.\n",
    "        \n",
    "        '''\n",
    "        \n",
    "        message_list = list(message.lower())\n",
    "        updated_message_list = []\n",
    "        \n",
    "        \n",
    "        ################################################################\n",
    "        ### STEP 1: ADD EVERY OTHER LETTER WITH A RANDOM LETTER ###\n",
    "        ##############################################################\n",
    "        \n",
    "        for i,l in enumerate(message_list):\n",
    "            updated_message_list.append(l)\n",
    "            j = i+i+1\n",
    "            updated_message_list.insert(j,random.sample(self.alphabet,1)[0])\n",
    "        \n",
    "        \n",
    "        #################################################\n",
    "        ### STEP 2: REVERSE THE STRING  ################\n",
    "        ###############################################\n",
    "        \n",
    "        self.encrypted_list = updated_message_list[::-1]\n",
    "        self.encrypted_phrase = ''.join(self.encrypted_list)\n",
    "        \n",
    "        self.decrypted_list = []\n",
    "         \n",
    "        \n",
    "        ##########################################################################\n",
    "        ##### STEP 3: USE THE RANDOM SHUFFLED ALPHABET FOR A CEASER CIPHER ######\n",
    "        ########################################################################\n",
    "        \n",
    "        for i,ele in enumerate(self.encrypted_list):\n",
    "            if ele in self.alphabet:\n",
    "                index = self.alphabet.index(ele)\n",
    "                self.encrypted_list[i] = self.jumbled_alphabet[index]\n",
    "                \n",
    "                \n",
    "        new_message = ''.join(self.encrypted_list)\n",
    "        \n",
    "        return new_message\n",
    "     \n",
    "   \n",
    "    \n",
    "    ################################################################\n",
    "    ########################## DECRYPTION #########################\n",
    "    ##############################################################\n",
    "    \n",
    "    def decryption(self,message,seed):\n",
    "        '''\n",
    "        This method takes in a messsage and a seed for the random shuffled alphabet.\n",
    "        It then returns the decrypted alphabet.\n",
    "        '''\n",
    "        \n",
    "        if seed == self.seed:\n",
    "                \n",
    "            message_list = list(message.lower())\n",
    "                    \n",
    "            for i,ele in enumerate(message_list):\n",
    "                if ele in self.jumbled_alphabet:\n",
    "                    index = self.jumbled_alphabet.index(ele)\n",
    "                    message_list[i] = self.alphabet[index]\n",
    "                        \n",
    "            self.decrypted_list = message_list[::-2]\n",
    "                \n",
    "            decrypted_message = ''.join(self.decrypted_list)\n",
    "        \n",
    "            return decrypted_message\n",
    "        \n",
    "        else:\n",
    "            return 'Invalid Token'\n",
    "              "
   ]
  },
  {
   "cell_type": "code",
   "execution_count": 2,
   "metadata": {},
   "outputs": [],
   "source": [
    "e = Encryption(20)"
   ]
  },
  {
   "cell_type": "code",
   "execution_count": 3,
   "metadata": {},
   "outputs": [
    {
     "data": {
      "text/plain": [
       "'divgkjocdze bcrgqghywk'"
      ]
     },
     "execution_count": 3,
     "metadata": {},
     "output_type": "execute_result"
    }
   ],
   "source": [
    "e.encryption('hello world')"
   ]
  },
  {
   "cell_type": "code",
   "execution_count": 4,
   "metadata": {},
   "outputs": [
    {
     "data": {
      "text/plain": [
       "'Invalid Token'"
      ]
     },
     "execution_count": 4,
     "metadata": {},
     "output_type": "execute_result"
    }
   ],
   "source": [
    "e.decryption('divgkjocdze bcrgqghywk',21)"
   ]
  },
  {
   "cell_type": "code",
   "execution_count": 5,
   "metadata": {},
   "outputs": [
    {
     "data": {
      "text/plain": [
       "'hello world'"
      ]
     },
     "execution_count": 5,
     "metadata": {},
     "output_type": "execute_result"
    }
   ],
   "source": [
    "e.decryption('divgkjocdze bcrgqghywk',20)"
   ]
  },
  {
   "cell_type": "markdown",
   "metadata": {},
   "source": [
    "## Thank You!"
   ]
  }
 ],
 "metadata": {
  "kernelspec": {
   "display_name": "Python 3",
   "language": "python",
   "name": "python3"
  },
  "language_info": {
   "codemirror_mode": {
    "name": "ipython",
    "version": 3
   },
   "file_extension": ".py",
   "mimetype": "text/x-python",
   "name": "python",
   "nbconvert_exporter": "python",
   "pygments_lexer": "ipython3",
   "version": "3.7.0"
  }
 },
 "nbformat": 4,
 "nbformat_minor": 2
}
